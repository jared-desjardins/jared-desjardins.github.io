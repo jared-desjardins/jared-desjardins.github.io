{
 "cells": [
  {
   "cell_type": "markdown",
   "id": "06bfac15-b3ba-4f1c-b25c-1b68c6860607",
   "metadata": {},
   "source": [
    "# Data Science Tools and Ecosystem"
   ]
  },
  {
   "cell_type": "markdown",
   "id": "9416a679-e487-41f8-9aed-790a4c6131ff",
   "metadata": {},
   "source": [
    "In this notebook, Data Science Tools and Ecosystem are summarized."
   ]
  },
  {
   "cell_type": "markdown",
   "id": "bb8a2c0b-6e74-4279-a075-3cd6c072bc96",
   "metadata": {},
   "source": [
    "**Objectives:**\n",
    "- List popular languages used in data science\n",
    "- List popular libraries used in data\n",
    "- Evaluate some common arithmetic expression in Python\n",
    "- Practice basic markdown syntax "
   ]
  },
  {
   "cell_type": "markdown",
   "id": "c56b5297-c0d0-4fd5-931c-217028cee6ba",
   "metadata": {},
   "source": [
    "Some of the popular languages that Data Scientists use are:\n",
    "1. Python\n",
    "2. R\n",
    "3. SQL"
   ]
  },
  {
   "cell_type": "markdown",
   "id": "5da3e2de-1cdd-4c59-baba-70f0a9bb6f30",
   "metadata": {},
   "source": [
    "Some of the commonly used libraries used by Data Scientists include:\n",
    "1. Pandas\n",
    "2. NumPy\n",
    "3. SciPy\n",
    "4. NLTK"
   ]
  },
  {
   "cell_type": "markdown",
   "id": "2a231ba6-ffd4-470f-8df6-3a1445ed145d",
   "metadata": {},
   "source": [
    "| Data Science Tools |\n",
    "| ------------------ |\n",
    "| Scikit-learn       |\n",
    "| Apache Hadoop      |\n",
    "| RStudio            |"
   ]
  },
  {
   "cell_type": "markdown",
   "id": "0b42a0a8-884a-4f2a-b7bc-946304b829a5",
   "metadata": {},
   "source": [
    "### Below are a few examples of evaluating arithmetic expressions in Python"
   ]
  },
  {
   "cell_type": "code",
   "execution_count": 1,
   "id": "2eba5558-e738-4e8e-ac8c-d11a69f64b2a",
   "metadata": {},
   "outputs": [
    {
     "data": {
      "text/plain": [
       "17"
      ]
     },
     "execution_count": 1,
     "metadata": {},
     "output_type": "execute_result"
    }
   ],
   "source": [
    "# This a simple arithmetic expression to mutiply then add integers\n",
    "(3*4)+5"
   ]
  },
  {
   "cell_type": "code",
   "execution_count": 2,
   "id": "ff664e51-ed60-47e2-8b84-e4b0db7e1b01",
   "metadata": {},
   "outputs": [
    {
     "data": {
      "text/plain": [
       "3.3333333333333335"
      ]
     },
     "execution_count": 2,
     "metadata": {},
     "output_type": "execute_result"
    }
   ],
   "source": [
    "# This will convert 200 minutes to hours by diving by 60\n",
    "200/60"
   ]
  },
  {
   "cell_type": "markdown",
   "id": "f58e9e9a-28ac-4fee-81cb-00290ef4ec02",
   "metadata": {},
   "source": [
    "## Author\n",
    "Jared"
   ]
  },
  {
   "cell_type": "code",
   "execution_count": null,
   "id": "3df0ded8-1ed5-4f28-b8c6-50a538261b47",
   "metadata": {},
   "outputs": [],
   "source": []
  }
 ],
 "metadata": {
  "kernelspec": {
   "display_name": "Python 3 (ipykernel)",
   "language": "python",
   "name": "python3"
  },
  "language_info": {
   "codemirror_mode": {
    "name": "ipython",
    "version": 3
   },
   "file_extension": ".py",
   "mimetype": "text/x-python",
   "name": "python",
   "nbconvert_exporter": "python",
   "pygments_lexer": "ipython3",
   "version": "3.12.8"
  }
 },
 "nbformat": 4,
 "nbformat_minor": 5
}
